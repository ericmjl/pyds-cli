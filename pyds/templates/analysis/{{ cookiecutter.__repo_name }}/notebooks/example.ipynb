{
 "cells": [
  {
   "cell_type": "code",
   "execution_count": null,
   "metadata": {},
   "outputs": [],
   "source": [
    "# ///\n",
    "# requires-python = \">=3.10\"\n",
    "# dependencies = [\n",
    "#     \"matplotlib\",\n",
    "#     \"pandas\",\n",
    "#     \"scikit-learn\",\n",
    "#     \"numpy\",\n",
    "#     \"seaborn\",\n",
    "# ]\n",
    "# ///\n"
   ]
  },
  {
   "cell_type": "code",
   "execution_count": null,
   "metadata": {},
   "outputs": [],
   "source": [
    "import matplotlib.pyplot as plt\n",
    "import pandas as pd\n",
    "import seaborn as sns\n",
    "\n",
    "\n",
    "df = pd.DataFrame({\"x\": range(10), \"y\": range(10)})\n",
    "\n",
    "sns.scatterplot(data=df, x=\"x\", y=\"y\")\n",
    "plt.show()\n"
   ]
  }
 ],
 "metadata": {
  "language_info": {
   "name": "python"
  }
 },
 "nbformat": 4,
 "nbformat_minor": 2
}
